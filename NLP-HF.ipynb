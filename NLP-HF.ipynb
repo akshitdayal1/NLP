{
 "cells": [
  {
   "cell_type": "code",
   "execution_count": 1,
   "id": "e0fb228a",
   "metadata": {},
   "outputs": [],
   "source": [
    "from transformers import pipeline"
   ]
  },
  {
   "cell_type": "markdown",
   "id": "a080eaef",
   "metadata": {},
   "source": [
    "# This is a test of the pipeline function within transformers\n"
   ]
  },
  {
   "cell_type": "code",
   "execution_count": 2,
   "id": "5f529500",
   "metadata": {},
   "outputs": [
    {
     "name": "stderr",
     "output_type": "stream",
     "text": [
      "No model was supplied, defaulted to distilbert-base-uncased-finetuned-sst-2-english and revision af0f99b (https://huggingface.co/distilbert-base-uncased-finetuned-sst-2-english).\n",
      "Using a pipeline without specifying a model name and revision in production is not recommended.\n"
     ]
    }
   ],
   "source": [
    "sa_test = pipeline(\"sentiment-analysis\")"
   ]
  },
  {
   "cell_type": "markdown",
   "id": "f92d2ad2",
   "metadata": {},
   "source": [
    "# Sentiment-analysis"
   ]
  },
  {
   "cell_type": "code",
   "execution_count": 3,
   "id": "cc795745",
   "metadata": {},
   "outputs": [
    {
     "data": {
      "text/plain": [
       "[{'label': 'NEGATIVE', 'score': 0.9962355494499207},\n",
       " {'label': 'POSITIVE', 'score': 0.9998778104782104},\n",
       " {'label': 'NEGATIVE', 'score': 0.9984002709388733},\n",
       " {'label': 'POSITIVE', 'score': 0.9989802241325378},\n",
       " {'label': 'NEGATIVE', 'score': 0.9996107220649719}]"
      ]
     },
     "execution_count": 3,
     "metadata": {},
     "output_type": "execute_result"
    }
   ],
   "source": [
    "sa_test([\"Why are you always so negative. I want to have a happy life but you make it so hard\", \n",
    "         \"I love my work\",\n",
    "         \"Seattle weather is terrible\",\n",
    "         \"You did an great job in the annual review, however there are some things you can improve\",\n",
    "         \"you are lazy \"\n",
    "        ])"
   ]
  },
  {
   "cell_type": "markdown",
   "id": "3a51ab40",
   "metadata": {},
   "source": [
    "# Zero -shot - classification"
   ]
  },
  {
   "cell_type": "code",
   "execution_count": 4,
   "id": "99e31a97",
   "metadata": {},
   "outputs": [
    {
     "name": "stderr",
     "output_type": "stream",
     "text": [
      "No model was supplied, defaulted to facebook/bart-large-mnli and revision c626438 (https://huggingface.co/facebook/bart-large-mnli).\n",
      "Using a pipeline without specifying a model name and revision in production is not recommended.\n"
     ]
    }
   ],
   "source": [
    "zsc_test = pipeline(\"zero-shot-classification\")"
   ]
  },
  {
   "cell_type": "code",
   "execution_count": 5,
   "id": "cd429cb1",
   "metadata": {},
   "outputs": [
    {
     "data": {
      "text/plain": [
       "[{'sequence': 'I wanted to call about my leather jacket order',\n",
       "  'labels': ['troubleshoot', 'e-commerce', 'finance'],\n",
       "  'scores': [0.528489351272583, 0.41554611921310425, 0.05596454441547394]},\n",
       " {'sequence': 'Do you have the shoe size 11 in stock',\n",
       "  'labels': ['troubleshoot', 'e-commerce', 'finance'],\n",
       "  'scores': [0.7307181358337402, 0.1944427192211151, 0.07483915239572525]},\n",
       " {'sequence': 'I wanted to call about my mortgage',\n",
       "  'labels': ['finance', 'troubleshoot', 'e-commerce'],\n",
       "  'scores': [0.7256306409835815, 0.26911935210227966, 0.005249986425042152]},\n",
       " {'sequence': 'my account is locked and i need someone to help reset my password',\n",
       "  'labels': ['troubleshoot', 'finance', 'e-commerce'],\n",
       "  'scores': [0.949483335018158, 0.026376774534583092, 0.02413993328809738]},\n",
       " {'sequence': 'my bank account is locked and i need someone to help reset my password',\n",
       "  'labels': ['troubleshoot', 'finance', 'e-commerce'],\n",
       "  'scores': [0.5299072861671448, 0.46362707018852234, 0.006465552374720573]},\n",
       " {'sequence': 'Could you provide me the stock quote for Twilio',\n",
       "  'labels': ['finance', 'troubleshoot', 'e-commerce'],\n",
       "  'scores': [0.6793712973594666, 0.23497845232486725, 0.085650235414505]}]"
      ]
     },
     "execution_count": 5,
     "metadata": {},
     "output_type": "execute_result"
    }
   ],
   "source": [
    "zsc_test([\"I wanted to call about my leather jacket order\", \n",
    "          \"Do you have the shoe size 11 in stock\",\n",
    "          \"I wanted to call about my mortgage\", \n",
    "          \"my account is locked and i need someone to help reset my password\",\n",
    "          \"my bank account is locked and i need someone to help reset my password\",\n",
    "          \"Could you provide me the stock quote for Twilio\"],\n",
    "           candidate_labels=[\"e-commerce\", \"finance\", \"troubleshoot\"])\n"
   ]
  },
  {
   "cell_type": "markdown",
   "id": "24611b01",
   "metadata": {},
   "source": [
    "# Text Generation - using GPT2"
   ]
  },
  {
   "cell_type": "code",
   "execution_count": 6,
   "id": "15f9937c",
   "metadata": {},
   "outputs": [
    {
     "name": "stderr",
     "output_type": "stream",
     "text": [
      "No model was supplied, defaulted to gpt2 and revision 6c0e608 (https://huggingface.co/gpt2).\n",
      "Using a pipeline without specifying a model name and revision in production is not recommended.\n"
     ]
    }
   ],
   "source": [
    "tg_test = pipeline(\"text-generation\")"
   ]
  },
  {
   "cell_type": "code",
   "execution_count": 7,
   "id": "88ae3f84",
   "metadata": {},
   "outputs": [
    {
     "name": "stderr",
     "output_type": "stream",
     "text": [
      "Setting `pad_token_id` to `eos_token_id`:50256 for open-end generation.\n",
      "/Users/ad/opt/anaconda3/lib/python3.9/site-packages/transformers/generation_utils.py:1359: UserWarning: Neither `max_length` nor `max_new_tokens` has been set, `max_length` will default to 50 (`self.config.max_length`). Controlling `max_length` via the config is deprecated and `max_length` will be removed from the config in v5 of Transformers -- we recommend using `max_new_tokens` to control the maximum length of the generation.\n",
      "  warnings.warn(\n"
     ]
    },
    {
     "data": {
      "text/plain": [
       "[{'generated_text': \"Sorry to hear that you're having trouble with your order.  seems to me you did not select the correct shipping method, was there just an issue or something to do with missing my order? Thank you very much. 2. I think we've\"}]"
      ]
     },
     "execution_count": 7,
     "metadata": {},
     "output_type": "execute_result"
    }
   ],
   "source": [
    "tg_test(\"Sorry to hear that you're having trouble with your order. \\\n",
    " seems to me you did not select the correct shipping\")"
   ]
  },
  {
   "cell_type": "code",
   "execution_count": 8,
   "id": "bd893016",
   "metadata": {},
   "outputs": [
    {
     "name": "stderr",
     "output_type": "stream",
     "text": [
      "Setting `pad_token_id` to `eos_token_id`:50256 for open-end generation.\n"
     ]
    },
    {
     "data": {
      "text/plain": [
       "[{'generated_text': \"Sorry to hear that you're having trouble with your order.  Looks like you did not select the correct shipping address - please wait a bit then try again :)  If you have problems (which I think I've just got to do) with your\"}]"
      ]
     },
     "execution_count": 8,
     "metadata": {},
     "output_type": "execute_result"
    }
   ],
   "source": [
    "tg_test(\"Sorry to hear that you're having trouble with your order. \\\n",
    " Looks like you did not select the correct shipping\")"
   ]
  },
  {
   "cell_type": "markdown",
   "id": "5e733c9a",
   "metadata": {},
   "source": [
    "# Text Generation using GPT-j -- Open Source alt to OpenAI's GPT3"
   ]
  },
  {
   "cell_type": "code",
   "execution_count": 9,
   "id": "0b6b7686",
   "metadata": {},
   "outputs": [],
   "source": [
    "gen = pipeline('text-generation', model='EleutherAI/gpt-j-6B')"
   ]
  },
  {
   "cell_type": "code",
   "execution_count": 10,
   "id": "d1a91e6c",
   "metadata": {},
   "outputs": [
    {
     "name": "stderr",
     "output_type": "stream",
     "text": [
      "Setting `pad_token_id` to `eos_token_id`:50256 for open-end generation.\n"
     ]
    },
    {
     "data": {
      "text/plain": [
       "[{'generated_text': \"Sorry to hear that you're having trouble with your order. seems to me you did not select the correct shipping option. We usually have pretty great customer service. If you have any trouble getting in touch with us, please visit our website and fill in\"}]"
      ]
     },
     "execution_count": 10,
     "metadata": {},
     "output_type": "execute_result"
    }
   ],
   "source": [
    " gen((\"Sorry to hear that you're having trouble with your order. \\\n",
    " seems to me you did not select the correct shipping\"))"
   ]
  },
  {
   "cell_type": "code",
   "execution_count": 14,
   "id": "95fd001c",
   "metadata": {},
   "outputs": [
    {
     "name": "stderr",
     "output_type": "stream",
     "text": [
      "Setting `pad_token_id` to `eos_token_id`:50256 for open-end generation.\n"
     ]
    },
    {
     "data": {
      "text/plain": [
       "[{'generated_text': 'Pricing is a method of monetization in which advertisers pay for impressions or click traffic on a Website. Typically, the advertisers pay different amounts for different kinds of advertising. For example, advertisers pay a much higher amount for brand awareness advertising (�'}]"
      ]
     },
     "execution_count": 14,
     "metadata": {},
     "output_type": "execute_result"
    }
   ],
   "source": [
    "gen(\"Pricing is a method of monetization\")"
   ]
  },
  {
   "cell_type": "markdown",
   "id": "b843571f",
   "metadata": {},
   "source": [
    "# Text Generation using OPT- Meta's GPT3 like model (Open Pre Trained Transformer)"
   ]
  },
  {
   "cell_type": "code",
   "execution_count": 39,
   "id": "5a1b061c",
   "metadata": {},
   "outputs": [],
   "source": [
    "gen2 = pipeline('text-generation', model='facebook/opt-350m')"
   ]
  },
  {
   "cell_type": "code",
   "execution_count": 40,
   "id": "aa638e04",
   "metadata": {},
   "outputs": [
    {
     "data": {
      "text/plain": [
       "[{'generated_text': \"I think wasting time is a bad idea because it's not worth it.\\nI agree. I\"}]"
      ]
     },
     "execution_count": 40,
     "metadata": {},
     "output_type": "execute_result"
    }
   ],
   "source": [
    "gen2(\"I think wasting time is a bad idea because\")"
   ]
  },
  {
   "cell_type": "code",
   "execution_count": null,
   "id": "44cf5763",
   "metadata": {},
   "outputs": [],
   "source": [
    "gen2(\" I should work in tech because \")"
   ]
  },
  {
   "cell_type": "code",
   "execution_count": 37,
   "id": "7c30c7aa",
   "metadata": {},
   "outputs": [
    {
     "data": {
      "text/plain": [
       "[{'generated_text': ' I should work in tech because ive always wanted to work with computers. I love to watch people'}]"
      ]
     },
     "execution_count": 37,
     "metadata": {},
     "output_type": "execute_result"
    }
   ],
   "source": [
    "#gen2.do_sample=True\n",
    "gen3 = pipeline('text-generation', model='facebook/opt-350m', do_sample=True)\n",
    "gen3(\" I should work in tech because \")"
   ]
  },
  {
   "cell_type": "code",
   "execution_count": 38,
   "id": "4606101c",
   "metadata": {},
   "outputs": [
    {
     "data": {
      "text/plain": [
       "[{'generated_text': \"I think wasting time is a bad idea because you're never gonna get a shiny, it's also\"}]"
      ]
     },
     "execution_count": 38,
     "metadata": {},
     "output_type": "execute_result"
    }
   ],
   "source": [
    "gen3(\"I think wasting time is a bad idea because\")"
   ]
  },
  {
   "cell_type": "code",
   "execution_count": null,
   "id": "2a2b7727",
   "metadata": {},
   "outputs": [],
   "source": []
  }
 ],
 "metadata": {
  "kernelspec": {
   "display_name": "Python 3 (ipykernel)",
   "language": "python",
   "name": "python3"
  },
  "language_info": {
   "codemirror_mode": {
    "name": "ipython",
    "version": 3
   },
   "file_extension": ".py",
   "mimetype": "text/x-python",
   "name": "python",
   "nbconvert_exporter": "python",
   "pygments_lexer": "ipython3",
   "version": "3.9.13"
  }
 },
 "nbformat": 4,
 "nbformat_minor": 5
}
